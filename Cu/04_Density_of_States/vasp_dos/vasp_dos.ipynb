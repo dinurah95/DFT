{
 "cells": [
  {
   "cell_type": "markdown",
   "id": "99108ca5-0353-434b-b028-9d8137cdbf90",
   "metadata": {},
   "source": [
    "# Density of States - Cu"
   ]
  },
  {
   "cell_type": "code",
   "execution_count": 2,
   "id": "85637a5e-d328-4002-a48e-2d9ad1c3261a",
   "metadata": {},
   "outputs": [
    {
     "data": {
      "application/vnd.jupyter.widget-view+json": {
       "model_id": "f6d010de4f97400084b5e7ca8540fa88",
       "version_major": 2,
       "version_minor": 0
      },
      "text/plain": []
     },
     "metadata": {},
     "output_type": "display_data"
    }
   ],
   "source": [
    "import py4vasp\n",
    "import matplotlib\n",
    "import matplotlib.pyplot as plt\n",
    "import numpy as np"
   ]
  },
  {
   "cell_type": "code",
   "execution_count": 3,
   "id": "ac959fbc-0a50-4a8c-94d7-d10d663b6ad4",
   "metadata": {},
   "outputs": [],
   "source": [
    "doscalc = py4vasp.Calculation.from_path('/Users/dhett/DFT/Cu/DOS/')"
   ]
  },
  {
   "cell_type": "code",
   "execution_count": 4,
   "id": "3a4e9eaf-6fb2-4ab2-be3a-39ee973cb183",
   "metadata": {},
   "outputs": [],
   "source": [
    "matplotlib.rcParams['pdf.fonttype'] = 42\n",
    "matplotlib.rcParams['ps.fonttype'] = 42"
   ]
  },
  {
   "cell_type": "code",
   "execution_count": 5,
   "id": "ab2a3949-ec41-4e38-a9c0-95d54b7caa75",
   "metadata": {},
   "outputs": [],
   "source": [
    "#dict = doscalc.dos.to_dict(\"Cr, Te\")\n",
    "dict = doscalc.dos.to_dict()"
   ]
  },
  {
   "cell_type": "code",
   "execution_count": 6,
   "id": "cd127b4d-47d8-4bac-9ead-04a7ed9e26e4",
   "metadata": {},
   "outputs": [
    {
     "data": {
      "text/plain": [
       "'\\nx_up_total_s = dict[\"s_up\"]\\nx_down_total_s = -dict[\"s_down\"]\\nx_up_total_p = dict[\"p_up\"]\\nx_down_total_p = -dict[\"p_down\"]\\nx_up_total_d = dict[\"d_up\"]\\nx_down_total_d = -dict[\"d_down\"]\\nx_up_total_f = dict[\"f_up\"]\\nx_down_total_f = -dict[\"f_down\"]\\n\\nx_up_Cr_s = dict[\"Cr_s_up\"]\\nx_down_Cr_s = -dict[\"Cr_s_down\"]\\nx_up_Cr_p = dict[\"Cr_p_up\"]\\nx_down_Cr_p = -dict[\"Cr_p_down\"]\\nx_up_Cr_d = dict[\"Cr_d_up\"]\\nx_down_Cr_d = -dict[\"Cr_d_down\"]\\nx_up_Cr_f = dict[\"Cr_f_up\"]\\nx_down_Cr_f = -dict[\"Cr_f_down\"]\\n\\nx_up_Te_s = dict[\"Te_s_up\"]\\nx_down_Te_s = -dict[\"Te_s_down\"]\\nx_up_Te_p = dict[\"Te_p_up\"]\\nx_down_Te_p = -dict[\"Te_p_down\"]\\nx_up_Te_d = dict[\"Te_d_up\"]\\nx_down_Te_d = -dict[\"Te_d_down\"]\\nx_up_Te_f = dict[\"Te_f_up\"]\\nx_down_Te_f = -dict[\"Te_f_down\"]\\n'"
      ]
     },
     "execution_count": 6,
     "metadata": {},
     "output_type": "execute_result"
    }
   ],
   "source": [
    "x_total = dict[\"total\"]\n",
    "\n",
    "#x_up_total = dict[\"up\"]\n",
    "#x_down_total = -dict[\"down\"]\n",
    "\n",
    "#x_up_Cr = dict[\"Cr_up\"]\n",
    "#x_down_Cr = -dict[\"Cr_down\"]\n",
    "\n",
    "#x_up_Te = dict[\"Te_up\"]\n",
    "#x_down_Te = -dict[\"Te_down\"]\n",
    "'''\n",
    "x_up_total_s = dict[\"s_up\"]\n",
    "x_down_total_s = -dict[\"s_down\"]\n",
    "x_up_total_p = dict[\"p_up\"]\n",
    "x_down_total_p = -dict[\"p_down\"]\n",
    "x_up_total_d = dict[\"d_up\"]\n",
    "x_down_total_d = -dict[\"d_down\"]\n",
    "x_up_total_f = dict[\"f_up\"]\n",
    "x_down_total_f = -dict[\"f_down\"]\n",
    "\n",
    "x_up_Cr_s = dict[\"Cr_s_up\"]\n",
    "x_down_Cr_s = -dict[\"Cr_s_down\"]\n",
    "x_up_Cr_p = dict[\"Cr_p_up\"]\n",
    "x_down_Cr_p = -dict[\"Cr_p_down\"]\n",
    "x_up_Cr_d = dict[\"Cr_d_up\"]\n",
    "x_down_Cr_d = -dict[\"Cr_d_down\"]\n",
    "x_up_Cr_f = dict[\"Cr_f_up\"]\n",
    "x_down_Cr_f = -dict[\"Cr_f_down\"]\n",
    "\n",
    "x_up_Te_s = dict[\"Te_s_up\"]\n",
    "x_down_Te_s = -dict[\"Te_s_down\"]\n",
    "x_up_Te_p = dict[\"Te_p_up\"]\n",
    "x_down_Te_p = -dict[\"Te_p_down\"]\n",
    "x_up_Te_d = dict[\"Te_d_up\"]\n",
    "x_down_Te_d = -dict[\"Te_d_down\"]\n",
    "x_up_Te_f = dict[\"Te_f_up\"]\n",
    "x_down_Te_f = -dict[\"Te_f_down\"]\n",
    "'''"
   ]
  },
  {
   "cell_type": "code",
   "execution_count": 7,
   "id": "b7dec43f-adb8-4b8f-ae07-77c9d63bf378",
   "metadata": {},
   "outputs": [],
   "source": [
    "y = dict[\"energies\"]"
   ]
  },
  {
   "cell_type": "code",
   "execution_count": 8,
   "id": "3021faef-a866-4c10-b4f5-371e173c478a",
   "metadata": {},
   "outputs": [
    {
     "data": {
      "image/png": "[encoded data removed]",
      "text/plain": [
       "<Figure size 315x394 with 1 Axes>"
      ]
     },
     "metadata": {},
     "output_type": "display_data"
    }
   ],
   "source": [
    "plt.figure(1, figsize=(3.15, 3.94))\n",
    "\n",
    "arialfont = {'fontname':'Arial'}\n",
    "\n",
    "plt.plot(x_total, y, 'purple', linewidth=0.5, label='Total')\n",
    "#plt.plot(x_down_total, y, 'blue', linewidth=0.5, label='Total spin down')\n",
    "\n",
    "#plt.plot(x_up_Cr, y, linewidth=0.5, label='Cr spin up')\n",
    "#plt.plot(x_down_Cr, y, linewidth=0.5, label='Cr spin down')\n",
    "\n",
    "#plt.plot(x_up_Te, y, linewidth=0.5, label='Te spin up')\n",
    "#plt.plot(x_down_Te, y, linewidth=0.5, label='Te spin down')\n",
    "\n",
    "plt.xticks(fontsize=8)\n",
    "plt.yticks(fontsize=8)\n",
    "\n",
    "#plt.title(\"The Density of States of Cr\\u2082Te\\u2083\")\n",
    "plt.xlabel(\"States/eV\", fontdict=arialfont, fontsize=8)\n",
    "plt.ylabel(\"E - $E_{F}$ (eV)\", fontdict=arialfont, fontsize=8)\n",
    "\n",
    "#plt.ylim(-1,1)\n",
    "#plt.yticks([-0.5,0,0.5],[-0.5,0,0.5])\n",
    "#plt.xticks([-25,0,25],[-25,0,25])\n",
    "plt.gca().tick_params(direction='in')\n",
    "\n",
    "plt.grid()\n",
    "plt.legend(fontsize=8, bbox_to_anchor=(1,1))\n",
    "plt.savefig(\"Cu-DOS.png\", dpi=1200, bbox_inches = 'tight')\n",
    "plt.show()"
   ]
  }
 ],
 "metadata": {
  "kernelspec": {
   "display_name": "Python [conda env:base] *",
   "language": "python",
   "name": "conda-base-py"
  },
  "language_info": {
   "codemirror_mode": {
    "name": "ipython",
    "version": 3
   },
   "file_extension": ".py",
   "mimetype": "text/x-python",
   "name": "python",
   "nbconvert_exporter": "python",
   "pygments_lexer": "ipython3",
   "version": "3.12.7"
  }
 },
 "nbformat": 4,
 "nbformat_minor": 5
}
